{
 "cells": [
  {
   "cell_type": "code",
   "execution_count": 1,
   "metadata": {},
   "outputs": [],
   "source": [
    "#Importing packages\n",
    "from selenium import webdriver\n",
    "import pandas as pd"
   ]
  },
  {
   "cell_type": "code",
   "execution_count": 9,
   "metadata": {},
   "outputs": [],
   "source": [
    "# Load selenium components\n",
    "from selenium import webdriver\n",
    "from selenium.webdriver.common.by import By\n",
    "from selenium.webdriver.support.ui import WebDriverWait, Select\n",
    "from selenium.webdriver.support import expected_conditions as EC\n",
    "from selenium.common.exceptions import TimeoutException\n",
    "\n"
   ]
  },
  {
   "cell_type": "code",
   "execution_count": null,
   "metadata": {},
   "outputs": [],
   "source": [
    "# Establish chrome driver and go to report site URL\n",
    "from selenium import webdriver\n",
    "from webdriver_manager.chrome import ChromeDriverManager\n",
    "from selenium.webdriver.common.by import By\n",
    "from selenium.webdriver.support.ui import WebDriverWait, Select\n",
    "from selenium.webdriver.support import expected_conditions as EC\n",
    "from selenium.common.exceptions import TimeoutException\n",
    "from selenium.webdriver.common.keys import  Keys\n",
    "import time \n",
    "from time import sleep\n",
    "\n",
    "\n",
    "driver = webdriver.Chrome(ChromeDriverManager().install())\n",
    "url = \"http://wikimipt.org/wiki/\"\n",
    "#url = \"https://techwithtim.net\"\n",
    "#url = \"https://www.wyzant.com/tutor/jobs\"\n",
    "driver.get(url)\n",
    "\n",
    "#browser exposes an executable file\n",
    "#Through Selenium test we will invoke the executable file which will then #invoke #actual browser\n",
    "#driver = webdriver.Chrome(executable_path=\"C:\\chromedriver.exe\")\n",
    "# to maximize the browser window\n",
    "driver.maximize_window()\n",
    "#print(driver.title)\n",
    "\n",
    "#name = driver.find_element(By.XPATH, \"//*[@id=\"menu-item-402\"]/a\")\n",
    "#name.click()\n",
    "\n",
    "\n",
    "kafedra = driver.find_element(\"xpath\", '//*[@id=\"mw-content-text\"]/div/div/div[3]/ul/li[1]/a')\n",
    "kafedra.click()\n",
    "\n",
    "sleep(2)\n",
    "\n",
    "prepod = driver.find_element(\"xpath\", '//*[@id=\"mw-content-text\"]/div/div/div[2]/ul/li[1]/span/span/a')\n",
    "prepod.click()\n",
    "\n",
    "\n",
    "#username_input = driver.find_elements(By.XPATH, \"//*[@id='Username']\")[1]\n",
    "#username_input.send_keys(\"Test\")\n",
    "\n",
    "\n",
    "#search = driver.find_element_by_name(\"s\")\n",
    "#search.send_keys(\"test\")\n",
    "#search.send_keys(Keys.RETURN)\n",
    "\n",
    "\n",
    "#time.sleep(5)\n",
    "#driver.quit()\n",
    "#get method to launch the URL\n",
    "\n",
    "\n",
    "\n"
   ]
  }
 ],
 "metadata": {
  "kernelspec": {
   "display_name": "Python 3.9.7 64-bit",
   "language": "python",
   "name": "python3"
  },
  "language_info": {
   "codemirror_mode": {
    "name": "ipython",
    "version": 3
   },
   "file_extension": ".py",
   "mimetype": "text/x-python",
   "name": "python",
   "nbconvert_exporter": "python",
   "pygments_lexer": "ipython3",
   "version": "3.9.7"
  },
  "orig_nbformat": 4,
  "vscode": {
   "interpreter": {
    "hash": "97e7738037ab5c68679b221168e1048d1981eac653725107d7abc5486ab9a185"
   }
  }
 },
 "nbformat": 4,
 "nbformat_minor": 2
}
