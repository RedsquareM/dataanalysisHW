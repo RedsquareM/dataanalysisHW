{
 "cells": [
  {
   "cell_type": "code",
   "execution_count": 2,
   "metadata": {},
   "outputs": [],
   "source": [
    "# Импортируем нужные библиотеки \n",
    "import pandas as pd\n",
    "import numpy as np\n",
    "import matplotlib.pyplot as plt\n",
    "import seaborn as sns\n",
    "from scipy.stats import norm"
   ]
  },
  {
   "cell_type": "code",
   "execution_count": 3,
   "metadata": {},
   "outputs": [
    {
     "name": "stdout",
     "output_type": "stream",
     "text": [
      "Размеры (6000, 10)\n"
     ]
    },
    {
     "data": {
      "text/html": [
       "<div>\n",
       "<style scoped>\n",
       "    .dataframe tbody tr th:only-of-type {\n",
       "        vertical-align: middle;\n",
       "    }\n",
       "\n",
       "    .dataframe tbody tr th {\n",
       "        vertical-align: top;\n",
       "    }\n",
       "\n",
       "    .dataframe thead th {\n",
       "        text-align: right;\n",
       "    }\n",
       "</style>\n",
       "<table border=\"1\" class=\"dataframe\">\n",
       "  <thead>\n",
       "    <tr style=\"text-align: right;\">\n",
       "      <th></th>\n",
       "      <th>id</th>\n",
       "      <th>was_married</th>\n",
       "      <th>children</th>\n",
       "      <th>salary</th>\n",
       "      <th>sex</th>\n",
       "      <th>age</th>\n",
       "      <th>profession</th>\n",
       "      <th>home_cost</th>\n",
       "      <th>drive_info</th>\n",
       "      <th>happyness</th>\n",
       "    </tr>\n",
       "  </thead>\n",
       "  <tbody>\n",
       "    <tr>\n",
       "      <th>0</th>\n",
       "      <td>0</td>\n",
       "      <td>1</td>\n",
       "      <td>4.0</td>\n",
       "      <td>4.420530e+07</td>\n",
       "      <td>1</td>\n",
       "      <td>82.0</td>\n",
       "      <td>Engineer</td>\n",
       "      <td>1.003674e+07</td>\n",
       "      <td>NaN</td>\n",
       "      <td>0.727499</td>\n",
       "    </tr>\n",
       "    <tr>\n",
       "      <th>1</th>\n",
       "      <td>1</td>\n",
       "      <td>1</td>\n",
       "      <td>2.0</td>\n",
       "      <td>1.737490e+08</td>\n",
       "      <td>1</td>\n",
       "      <td>32.0</td>\n",
       "      <td>Doctor</td>\n",
       "      <td>1.014051e+07</td>\n",
       "      <td>0.0</td>\n",
       "      <td>0.383234</td>\n",
       "    </tr>\n",
       "    <tr>\n",
       "      <th>2</th>\n",
       "      <td>2</td>\n",
       "      <td>1</td>\n",
       "      <td>6.0</td>\n",
       "      <td>2.489055e+08</td>\n",
       "      <td>1</td>\n",
       "      <td>14.0</td>\n",
       "      <td>Entertainment</td>\n",
       "      <td>1.043318e+07</td>\n",
       "      <td>NaN</td>\n",
       "      <td>0.432142</td>\n",
       "    </tr>\n",
       "    <tr>\n",
       "      <th>3</th>\n",
       "      <td>3</td>\n",
       "      <td>0</td>\n",
       "      <td>1.0</td>\n",
       "      <td>1.268718e+08</td>\n",
       "      <td>0</td>\n",
       "      <td>10.0</td>\n",
       "      <td>Lawyer</td>\n",
       "      <td>1.004299e+07</td>\n",
       "      <td>NaN</td>\n",
       "      <td>0.377987</td>\n",
       "    </tr>\n",
       "    <tr>\n",
       "      <th>4</th>\n",
       "      <td>4</td>\n",
       "      <td>1</td>\n",
       "      <td>9.0</td>\n",
       "      <td>8.596042e+07</td>\n",
       "      <td>1</td>\n",
       "      <td>99.0</td>\n",
       "      <td>Artist</td>\n",
       "      <td>1.021908e+07</td>\n",
       "      <td>NaN</td>\n",
       "      <td>0.657579</td>\n",
       "    </tr>\n",
       "  </tbody>\n",
       "</table>\n",
       "</div>"
      ],
      "text/plain": [
       "   id  was_married  children        salary  sex   age     profession  \\\n",
       "0   0            1       4.0  4.420530e+07    1  82.0       Engineer   \n",
       "1   1            1       2.0  1.737490e+08    1  32.0         Doctor   \n",
       "2   2            1       6.0  2.489055e+08    1  14.0  Entertainment   \n",
       "3   3            0       1.0  1.268718e+08    0  10.0         Lawyer   \n",
       "4   4            1       9.0  8.596042e+07    1  99.0         Artist   \n",
       "\n",
       "      home_cost  drive_info  happyness  \n",
       "0  1.003674e+07         NaN   0.727499  \n",
       "1  1.014051e+07         0.0   0.383234  \n",
       "2  1.043318e+07         NaN   0.432142  \n",
       "3  1.004299e+07         NaN   0.377987  \n",
       "4  1.021908e+07         NaN   0.657579  "
      ]
     },
     "execution_count": 3,
     "metadata": {},
     "output_type": "execute_result"
    }
   ],
   "source": [
    "# Читаем наш датасет \n",
    "df = pd.read_csv('people_data_clustering.csv')\n",
    "print('Размеры',df.shape)\n",
    "df.head()"
   ]
  },
  {
   "cell_type": "markdown",
   "metadata": {},
   "source": [
    "Чистка датасета (5 баллов)\n",
    "1. Есть ли дубли в данных? Если есть удалить. \n",
    "2. Найти и удалить выбросы по признаку home_cost. (Их не больше 15-х, не меньше 3-х)"
   ]
  },
  {
   "cell_type": "code",
   "execution_count": 4,
   "metadata": {},
   "outputs": [
    {
     "name": "stdout",
     "output_type": "stream",
     "text": [
      "Размеры (6000, 10)\n"
     ]
    }
   ],
   "source": [
    "#1 Убираем дубли в данных (Размеры одинаковы)\n",
    "df = df.drop_duplicates(keep=False)\n",
    "print('Размеры',df.shape)"
   ]
  },
  {
   "cell_type": "markdown",
   "metadata": {},
   "source": [
    "Используем метод IQR для выявления выбросов, чтобы установить «забор» за пределами Q1 и Q3. Любые значения, выходящие за пределы этой границы, считаются выбросами. Чтобы построить этот забор, мы берем IQR в 1,5 раза, затем вычитаем это значение из Q1 и добавляем это значение к Q3."
   ]
  },
  {
   "cell_type": "code",
   "execution_count": 5,
   "metadata": {},
   "outputs": [
    {
     "data": {
      "text/html": [
       "<div>\n",
       "<style scoped>\n",
       "    .dataframe tbody tr th:only-of-type {\n",
       "        vertical-align: middle;\n",
       "    }\n",
       "\n",
       "    .dataframe tbody tr th {\n",
       "        vertical-align: top;\n",
       "    }\n",
       "\n",
       "    .dataframe thead th {\n",
       "        text-align: right;\n",
       "    }\n",
       "</style>\n",
       "<table border=\"1\" class=\"dataframe\">\n",
       "  <thead>\n",
       "    <tr style=\"text-align: right;\">\n",
       "      <th></th>\n",
       "      <th>id</th>\n",
       "      <th>was_married</th>\n",
       "      <th>children</th>\n",
       "      <th>salary</th>\n",
       "      <th>sex</th>\n",
       "      <th>age</th>\n",
       "      <th>profession</th>\n",
       "      <th>home_cost</th>\n",
       "      <th>drive_info</th>\n",
       "      <th>happyness</th>\n",
       "    </tr>\n",
       "  </thead>\n",
       "  <tbody>\n",
       "    <tr>\n",
       "      <th>0</th>\n",
       "      <td>0</td>\n",
       "      <td>1</td>\n",
       "      <td>4.0</td>\n",
       "      <td>4.420530e+07</td>\n",
       "      <td>1</td>\n",
       "      <td>82.0</td>\n",
       "      <td>Engineer</td>\n",
       "      <td>1.003674e+07</td>\n",
       "      <td>NaN</td>\n",
       "      <td>0.727499</td>\n",
       "    </tr>\n",
       "    <tr>\n",
       "      <th>1</th>\n",
       "      <td>1</td>\n",
       "      <td>1</td>\n",
       "      <td>2.0</td>\n",
       "      <td>1.737490e+08</td>\n",
       "      <td>1</td>\n",
       "      <td>32.0</td>\n",
       "      <td>Doctor</td>\n",
       "      <td>1.014051e+07</td>\n",
       "      <td>0.0</td>\n",
       "      <td>0.383234</td>\n",
       "    </tr>\n",
       "    <tr>\n",
       "      <th>2</th>\n",
       "      <td>2</td>\n",
       "      <td>1</td>\n",
       "      <td>6.0</td>\n",
       "      <td>2.489055e+08</td>\n",
       "      <td>1</td>\n",
       "      <td>14.0</td>\n",
       "      <td>Entertainment</td>\n",
       "      <td>1.043318e+07</td>\n",
       "      <td>NaN</td>\n",
       "      <td>0.432142</td>\n",
       "    </tr>\n",
       "    <tr>\n",
       "      <th>3</th>\n",
       "      <td>3</td>\n",
       "      <td>0</td>\n",
       "      <td>1.0</td>\n",
       "      <td>1.268718e+08</td>\n",
       "      <td>0</td>\n",
       "      <td>10.0</td>\n",
       "      <td>Lawyer</td>\n",
       "      <td>1.004299e+07</td>\n",
       "      <td>NaN</td>\n",
       "      <td>0.377987</td>\n",
       "    </tr>\n",
       "    <tr>\n",
       "      <th>4</th>\n",
       "      <td>4</td>\n",
       "      <td>1</td>\n",
       "      <td>9.0</td>\n",
       "      <td>8.596042e+07</td>\n",
       "      <td>1</td>\n",
       "      <td>99.0</td>\n",
       "      <td>Artist</td>\n",
       "      <td>1.021908e+07</td>\n",
       "      <td>NaN</td>\n",
       "      <td>0.657579</td>\n",
       "    </tr>\n",
       "    <tr>\n",
       "      <th>...</th>\n",
       "      <td>...</td>\n",
       "      <td>...</td>\n",
       "      <td>...</td>\n",
       "      <td>...</td>\n",
       "      <td>...</td>\n",
       "      <td>...</td>\n",
       "      <td>...</td>\n",
       "      <td>...</td>\n",
       "      <td>...</td>\n",
       "      <td>...</td>\n",
       "    </tr>\n",
       "    <tr>\n",
       "      <th>5995</th>\n",
       "      <td>495</td>\n",
       "      <td>1</td>\n",
       "      <td>0.0</td>\n",
       "      <td>3.589436e+07</td>\n",
       "      <td>1</td>\n",
       "      <td>3.0</td>\n",
       "      <td>Executive</td>\n",
       "      <td>1.007038e+07</td>\n",
       "      <td>1.0</td>\n",
       "      <td>0.599222</td>\n",
       "    </tr>\n",
       "    <tr>\n",
       "      <th>5996</th>\n",
       "      <td>496</td>\n",
       "      <td>1</td>\n",
       "      <td>3.0</td>\n",
       "      <td>2.454208e+06</td>\n",
       "      <td>0</td>\n",
       "      <td>20.0</td>\n",
       "      <td>Homemaker</td>\n",
       "      <td>1.009348e+07</td>\n",
       "      <td>1.0</td>\n",
       "      <td>0.259710</td>\n",
       "    </tr>\n",
       "    <tr>\n",
       "      <th>5997</th>\n",
       "      <td>497</td>\n",
       "      <td>1</td>\n",
       "      <td>0.0</td>\n",
       "      <td>3.335405e+06</td>\n",
       "      <td>0</td>\n",
       "      <td>17.0</td>\n",
       "      <td>Healthcare</td>\n",
       "      <td>1.016696e+07</td>\n",
       "      <td>0.0</td>\n",
       "      <td>0.258779</td>\n",
       "    </tr>\n",
       "    <tr>\n",
       "      <th>5998</th>\n",
       "      <td>498</td>\n",
       "      <td>0</td>\n",
       "      <td>1.0</td>\n",
       "      <td>2.024255e+08</td>\n",
       "      <td>0</td>\n",
       "      <td>10.0</td>\n",
       "      <td>Lawyer</td>\n",
       "      <td>1.025544e+07</td>\n",
       "      <td>NaN</td>\n",
       "      <td>0.212931</td>\n",
       "    </tr>\n",
       "    <tr>\n",
       "      <th>5999</th>\n",
       "      <td>499</td>\n",
       "      <td>1</td>\n",
       "      <td>3.0</td>\n",
       "      <td>2.274622e+06</td>\n",
       "      <td>0</td>\n",
       "      <td>21.0</td>\n",
       "      <td>Homemaker</td>\n",
       "      <td>1.027476e+07</td>\n",
       "      <td>NaN</td>\n",
       "      <td>0.553919</td>\n",
       "    </tr>\n",
       "  </tbody>\n",
       "</table>\n",
       "<p>5987 rows × 10 columns</p>\n",
       "</div>"
      ],
      "text/plain": [
       "       id  was_married  children        salary  sex   age     profession  \\\n",
       "0       0            1       4.0  4.420530e+07    1  82.0       Engineer   \n",
       "1       1            1       2.0  1.737490e+08    1  32.0         Doctor   \n",
       "2       2            1       6.0  2.489055e+08    1  14.0  Entertainment   \n",
       "3       3            0       1.0  1.268718e+08    0  10.0         Lawyer   \n",
       "4       4            1       9.0  8.596042e+07    1  99.0         Artist   \n",
       "...   ...          ...       ...           ...  ...   ...            ...   \n",
       "5995  495            1       0.0  3.589436e+07    1   3.0      Executive   \n",
       "5996  496            1       3.0  2.454208e+06    0  20.0      Homemaker   \n",
       "5997  497            1       0.0  3.335405e+06    0  17.0     Healthcare   \n",
       "5998  498            0       1.0  2.024255e+08    0  10.0         Lawyer   \n",
       "5999  499            1       3.0  2.274622e+06    0  21.0      Homemaker   \n",
       "\n",
       "         home_cost  drive_info  happyness  \n",
       "0     1.003674e+07         NaN   0.727499  \n",
       "1     1.014051e+07         0.0   0.383234  \n",
       "2     1.043318e+07         NaN   0.432142  \n",
       "3     1.004299e+07         NaN   0.377987  \n",
       "4     1.021908e+07         NaN   0.657579  \n",
       "...            ...         ...        ...  \n",
       "5995  1.007038e+07         1.0   0.599222  \n",
       "5996  1.009348e+07         1.0   0.259710  \n",
       "5997  1.016696e+07         0.0   0.258779  \n",
       "5998  1.025544e+07         NaN   0.212931  \n",
       "5999  1.027476e+07         NaN   0.553919  \n",
       "\n",
       "[5987 rows x 10 columns]"
      ]
     },
     "execution_count": 5,
     "metadata": {},
     "output_type": "execute_result"
    },
    {
     "data": {
      "image/png": "[encoded data removed]",
      "text/plain": [
       "<Figure size 432x288 with 1 Axes>"
      ]
     },
     "metadata": {
      "needs_background": "light"
     },
     "output_type": "display_data"
    }
   ],
   "source": [
    "import seaborn as sns\n",
    "sns.boxplot(x=df['home_cost'])\n",
    "\n",
    "# функция для нахождения выбросов по Q1 и Q3 \n",
    "def outliers_iqr(q):\n",
    "    quartile_1, quartile_3 = np.percentile(q, [25, 75])\n",
    "    iqr = quartile_3 - quartile_1\n",
    "    lower_bound = quartile_1 - (iqr * 1.5)\n",
    "    upper_bound = quartile_3 + (iqr * 1.5)\n",
    "    return np.where((q > upper_bound) | (q < lower_bound))\n",
    "\n",
    "outliers=outliers_iqr(df['home_cost'])\n",
    "\n",
    "\n",
    "# Убираем выбросы\n",
    "def remove_outlier(df_in, col_name):\n",
    "    q1 = df_in[col_name].quantile(0.25)\n",
    "    q3 = df_in[col_name].quantile(0.75)\n",
    "    iqr = q3-q1 #Interquartile range\n",
    "    fence_low  = q1-1.5*iqr\n",
    "    fence_high = q3+1.5*iqr\n",
    "    df_out = df_in.loc[(df_in[col_name] > fence_low) & (df_in[col_name] < fence_high)]\n",
    "    return df_out\n",
    "\n",
    "\n",
    "df = remove_outlier(df, 'home_cost')\n",
    "df "
   ]
  },
  {
   "cell_type": "markdown",
   "metadata": {},
   "source": [
    "Гистограмма отображает частоту (количество) числовой переменной, разбивая ее на ячейки (интервалы). \n",
    "Чтобы помочь определить разумную ширину бина, мы можем использовать правило Фридмана-Диакониса, которое было разработано для минимизации разницы между площадью под эмпирическим распределением вероятностей и площадью под теоретическим распределением вероятностей. Формально правило принимает в качестве входных данных межквартильный диапазон IQR(x) и количество наблюдений n в наборе эмпирических данных и возвращает оценку ширины бина."
   ]
  },
  {
   "cell_type": "code",
   "execution_count": 6,
   "metadata": {},
   "outputs": [
    {
     "name": "stdout",
     "output_type": "stream",
     "text": [
      "Freedman–Diaconis number of bins: 21\n"
     ]
    }
   ],
   "source": [
    "x=df['salary']\n",
    "q25, q75 = np.percentile(x, [25, 75])\n",
    "bin_width = 2 * (q75 - q25) * len(x) ** (-1/3)\n",
    "bins = round((x.max() - x.min()) / bin_width)\n",
    "print(\"Freedman–Diaconis number of bins:\", bins)\n",
    "#plt.hist(x, bins=bins);"
   ]
  },
  {
   "cell_type": "markdown",
   "metadata": {},
   "source": [
    "Гипотеза: \n",
    "1. Правда ли женщины в среднем имеют более высокую зарплату, чем мужчины?"
   ]
  },
  {
   "cell_type": "code",
   "execution_count": 7,
   "metadata": {},
   "outputs": [
    {
     "data": {
      "image/png": "[encoded data removed]",
      "text/plain": [
       "<Figure size 576x576 with 1 Axes>"
      ]
     },
     "metadata": {
      "needs_background": "light"
     },
     "output_type": "display_data"
    }
   ],
   "source": [
    "import matplotlib.pyplot as plt\n",
    "A = df.loc[df['sex'] == 0]  # женский пол \n",
    "B = df.loc[df['sex'] == 1]  # мужской пол  \n",
    "\n",
    "fig, axs = plt.subplots(figsize=(8, 8), tight_layout=True)\n",
    "for s in ['top', 'bottom', 'left', 'right']:\n",
    "    axs.spines[s].set_visible(False)\n",
    "\n",
    "# Убираем x, y ticks\n",
    "axs.xaxis.set_ticks_position('none')\n",
    "axs.yaxis.set_ticks_position('none')\n",
    "   \n",
    "# Добавим padding между axes and labels\n",
    "axs.xaxis.set_tick_params(pad = 1)\n",
    "axs.yaxis.set_tick_params(pad = 1)\n",
    " \n",
    "# Добавим клеточки \n",
    "axs.grid(visible = True, color ='blue',\n",
    "        linestyle ='-.', linewidth = 0.5,\n",
    "        alpha = 0.6)\n",
    "\n",
    "#Фоновый цвет \n",
    "axs.set_facecolor('aliceblue')\n",
    " \n",
    "\n",
    "#Добавим гистограмму bins=21 по Freedman–Diaconis\n",
    "plt.hist(A['salary'], alpha=0.5, label='0', color=\"darkblue\", histtype='barstacked', bins=21, edgecolor=\"black\", linewidth=0.4, rwidth=0.3)\n",
    "plt.hist(B['salary'], alpha=0.5, label='1', color =\"darkorange\", histtype='barstacked', bins=21, edgecolor='black', linewidth=0.4, rwidth=0.3)\n",
    "\n",
    "\n",
    "\n",
    "#Довавляем титул, и название осей \n",
    "plt.title('Salary Distribution')\n",
    "plt.xlabel('Salary')\n",
    "plt.ylabel('Count')\n",
    "\n",
    "# \n",
    "legend = plt.legend(loc = \"center right\")\n",
    "legend.set_title(\"sex\")\n",
    "#Нарисуем гистограмму \n",
    "plt.show()\n"
   ]
  },
  {
   "cell_type": "code",
   "execution_count": 8,
   "metadata": {},
   "outputs": [
    {
     "name": "stdout",
     "output_type": "stream",
     "text": [
      "Мужчины в среднем имеют более высокую зарплату\n"
     ]
    }
   ],
   "source": [
    "# Проверем гипотезу\n",
    "# Из данных: sex - Пол (0 - женщина, 1 - мужчина)\n",
    "\n",
    "if B['salary'].mean() > A['salary'].mean():\n",
    "    print('Мужчины в среднем имеют более высокую зарплату')\n",
    "else:\n",
    "    print('Женщины в среднем имеют более высокую зарплату')"
   ]
  },
  {
   "cell_type": "markdown",
   "metadata": {},
   "source": [
    "Гипотеза: \n",
    "1. Правда ли женщины в среднем имеют более высокую зарплату, чем мужчины?\n",
    "   Ответ: Нет не правда, Мужчины в среднем имеют более высокую зарплату"
   ]
  },
  {
   "cell_type": "markdown",
   "metadata": {},
   "source": [
    "2. Правда ли, что инженеры (Engineer) зарабатывают в среднем больше, чем люди из сферы развлечений (Entertainment)?\n",
    "   Ответ: Нет, инженеры (Engineer) не зарабатывают в среднем больше, чем люди из сферы развлечений (Entertainment)?"
   ]
  },
  {
   "cell_type": "code",
   "execution_count": 9,
   "metadata": {},
   "outputs": [
    {
     "data": {
      "image/png": "[encoded data removed]",
      "text/plain": [
       "<Figure size 576x576 with 1 Axes>"
      ]
     },
     "metadata": {
      "needs_background": "light"
     },
     "output_type": "display_data"
    }
   ],
   "source": [
    "Engineers = df.loc[df['profession'] == 'Engineer']\n",
    "Entainer = df.loc[df['profession'] == 'Entertainment']\n",
    "\n",
    "fig, axs = plt.subplots(figsize=(8, 8), tight_layout=True)\n",
    "for s in ['top', 'bottom', 'left', 'right']:\n",
    "    axs.spines[s].set_visible(False)\n",
    "\n",
    "# Remove x, y ticks\n",
    "axs.xaxis.set_ticks_position('none')\n",
    "axs.yaxis.set_ticks_position('none')\n",
    "   \n",
    "# Add padding between axes and labels\n",
    "axs.xaxis.set_tick_params(pad = 1)\n",
    "axs.yaxis.set_tick_params(pad = 1)\n",
    " \n",
    "# Add x, y gridlines\n",
    "axs.grid(visible = True, color ='blue',\n",
    "        linestyle ='-.', linewidth = 0.5,\n",
    "        alpha = 0.6)\n",
    "\n",
    "axs.set_facecolor('aliceblue')\n",
    "\n",
    "\n",
    "#add three histograms to one plot\n",
    "plt.hist(Engineers['salary'], alpha=0.5, label='Engineers', color=\"indigo\", histtype='barstacked', bins=21, edgecolor=\"black\", linewidth=0.4, rwidth=0.8)\n",
    "plt.hist(Entainer['salary'], alpha=0.5, label='Entertainment', color=\"orange\", histtype='barstacked', bins=30, edgecolor=\"black\", linewidth=0.4, rwidth=0.3)\n",
    "\n",
    "\n",
    "\n",
    "#add plot title and axis labels\n",
    "plt.title('Salary Distribution by profession')\n",
    "plt.xlabel('Salary')\n",
    "plt.ylabel('Count')\n",
    "\n",
    "legend = plt.legend(loc = \"center right\")\n",
    "legend.set_title(\"profession\")\n",
    "\n",
    "#plt.legend()\n",
    "#display plot\n",
    "plt.show()\n"
   ]
  },
  {
   "cell_type": "code",
   "execution_count": 10,
   "metadata": {},
   "outputs": [
    {
     "name": "stdout",
     "output_type": "stream",
     "text": [
      "Нет, инженеры (Engineer) не зарабатывают в среднем больше, чем люди из сферы развлечений (Entertainment)?\n"
     ]
    }
   ],
   "source": [
    "if Engineers['salary'].mean() > Entainer['salary'].mean():\n",
    "    print('Да, инженеры (Engineer) зарабатывают в среднем больше, чем люди из сферы развлечений (Entertainment)?')\n",
    "else:\n",
    "    print('Нет, инженеры (Engineer) не зарабатывают в среднем больше, чем люди из сферы развлечений (Entertainment)?')\n",
    "    "
   ]
  },
  {
   "cell_type": "markdown",
   "metadata": {},
   "source": [
    "3. Правда ли, что те, у кого больше трех детей зарабатывают в среднем больше, чем те, у кого меньше или трое детей?\n",
    "   Ответ: Да, те у кого больше трех детей зарабатывают в среднем больше, чем те, у кого меньше или трое детей"
   ]
  },
  {
   "cell_type": "code",
   "execution_count": 11,
   "metadata": {},
   "outputs": [
    {
     "data": {
      "text/plain": [
       "Text(0, 0.5, 'Count')"
      ]
     },
     "execution_count": 11,
     "metadata": {},
     "output_type": "execute_result"
    },
    {
     "data": {
      "image/png": "[encoded data removed]",
      "text/plain": [
       "<Figure size 576x576 with 1 Axes>"
      ]
     },
     "metadata": {
      "needs_background": "light"
     },
     "output_type": "display_data"
    }
   ],
   "source": [
    "fig, axs = plt.subplots(figsize=(8, 8), tight_layout=True)\n",
    "for s in ['top', 'bottom', 'left', 'right']:\n",
    "    axs.spines[s].set_visible(False)\n",
    "\n",
    "# Remove x, y ticks\n",
    "axs.xaxis.set_ticks_position('none')\n",
    "axs.yaxis.set_ticks_position('none')\n",
    "   \n",
    "# Add padding between axes and labels\n",
    "axs.xaxis.set_tick_params(pad = 1)\n",
    "axs.yaxis.set_tick_params(pad = 1)\n",
    " \n",
    "# Add x, y gridlines\n",
    "axs.grid(visible = True, color ='blue',\n",
    "        linestyle ='-.', linewidth = 0.5,\n",
    "        alpha = 0.6)\n",
    "\n",
    "axs.set_facecolor('aliceblue')\n",
    " \n",
    "\n",
    "df.groupby('children')['salary'].hist( histtype='barstacked', alpha = 0.6, legend=True, bins=21, edgecolor=\"black\", linewidth=0.9, rwidth=1)\n",
    "#vc = df.groupby('children')['salary']\n",
    "#colors = ['aqua', 'red', 'gold', 'royalblue', 'darkorange', 'green', 'purple', 'steelblue']\n",
    "\n",
    "legend = plt.legend(loc = \"center right\")\n",
    "legend.set_title(\"children\")\n",
    "\n",
    "plt.title('Salary Distribution by number of Children')\n",
    "plt.xlabel('Salary')\n",
    "plt.ylabel('Count')\n"
   ]
  },
  {
   "cell_type": "code",
   "execution_count": 12,
   "metadata": {},
   "outputs": [
    {
     "name": "stdout",
     "output_type": "stream",
     "text": [
      "Да, те у кого больше трех детей зарабатывают в среднем больше, чем те, у кого меньше или трое детей?\n"
     ]
    }
   ],
   "source": [
    "C = df.loc[df['children'] > 3]\n",
    "D = df.loc[df['sex'] <= 3]\n",
    "if C['salary'].mean() > D['salary'].mean():\n",
    "    print('Да, те у кого больше трех детей зарабатывают в среднем больше, чем те, у кого меньше или трое детей')\n",
    "else:\n",
    "    print('Нет не правда')"
   ]
  },
  {
   "cell_type": "markdown",
   "metadata": {},
   "source": [
    "4. Правда ли, что дома художники (Artist) живут в домах, которые в среднем дороже или дешевле, чем дома адвокатов (Lawyer)?\n",
    "   Ответ: Нет, не правда, дома адвокатов(Lawyer) живут в домах, которые в среднем дороже чем дома художники (Artist) (из графика)"
   ]
  },
  {
   "cell_type": "code",
   "execution_count": 13,
   "metadata": {},
   "outputs": [
    {
     "data": {
      "image/png": "[encoded data removed]",
      "text/plain": [
       "<Figure size 432x288 with 1 Axes>"
      ]
     },
     "metadata": {
      "needs_background": "light"
     },
     "output_type": "display_data"
    }
   ],
   "source": [
    "Artist = df.loc[df['profession'] == 'Artist']\n",
    "Lawyer = df.loc[df['profession'] == 'Lawyer']\n",
    "\n",
    "# функция \n",
    "def addlabels(x,y):\n",
    "    for i in range(len(x)):\n",
    "        plt.text(i, y[i], y[i], ha = 'center')\n",
    "fig = plt.figure()\n",
    "\n",
    "ax = fig.add_axes([0,0,1,1])\n",
    "profession = ['Artist', 'Lawyer']\n",
    "\n",
    "#Средняя цена для разных профессий\n",
    "homecost = [Engineers['home_cost'].mean(),Lawyer['home_cost'].mean()]\n",
    "ax.bar(profession ,homecost)\n",
    "addlabels(profession ,homecost)\n",
    "      \n",
    "plt.ylim([9500000, 11000000])\n",
    "\n",
    "plt.ylabel(\"Average Home Cost\")\n",
    "plt.show()"
   ]
  },
  {
   "cell_type": "markdown",
   "metadata": {},
   "source": [
    "5. Прада ли, что недвижимость у бывавших в браке в среднем дороже, чем у не бывавших в браке?\n",
    "   Ответ: как видим из графика недвижимость у single больше чем у married, значит гипотеза не верна. Недвижимость у бывавших в браке в среднем дешевле, чем у не бывавших в браке"
   ]
  },
  {
   "cell_type": "code",
   "execution_count": 14,
   "metadata": {},
   "outputs": [
    {
     "data": {
      "image/png": "[encoded data removed]",
      "text/plain": [
       "<Figure size 432x288 with 1 Axes>"
      ]
     },
     "metadata": {
      "needs_background": "light"
     },
     "output_type": "display_data"
    }
   ],
   "source": [
    "# was married из датасета, обозначаем: \n",
    "Single = df.loc[df['was_married'] == 0]\n",
    "Married = df.loc[df['was_married'] == 1]\n",
    "\n",
    "# Выведем график \n",
    "fig = plt.figure()\n",
    "ax = fig.add_axes([0,0,1,1])\n",
    "Status = ['Married', 'Single']\n",
    "HC = [Married['home_cost'].mean(),Single['home_cost'].mean()]\n",
    "ax.bar(Status ,HC)\n",
    "addlabels(Status ,HC)\n",
    "      \n",
    "plt.ylim([9500000, 10500000])\n",
    "\n",
    "plt.ylabel(\"Average Home Cost\")\n",
    "plt.show()"
   ]
  },
  {
   "cell_type": "markdown",
   "metadata": {},
   "source": [
    "Прада ли, что мужчины в среднем чаще бывают в браке, чем женщины?\n",
    "Подсказка - воспользуйтесь критерием хи-квадрат из библиотеки scipy\n",
    "\n",
    "Критерий хи-квадрат - статистический критерий для проверки гипотезы  H_0, что наблюдаемая случайная величина подчиняется некому теоретическому закону распределения.\n",
    "\n",
    "Ответ: Гипотеза ложна по критерию хи-квадрат, гипотеза ложна что мужчины в среднем чаще бывают в браке, чем женщины"
   ]
  },
  {
   "cell_type": "code",
   "execution_count": 27,
   "metadata": {},
   "outputs": [
    {
     "name": "stdout",
     "output_type": "stream",
     "text": [
      "p value is 4.251314801963343e-150\n",
      "гипотеза теста ложна и должна быть отклонена\n"
     ]
    }
   ],
   "source": [
    "# Определим дата, sex = 0, and was married = 0\n",
    "# sex = 0 and was married = 1\n",
    "# sex = 1 and was married = 1\n",
    "# sex =1 and was married = 0 \n",
    "\n",
    "\n",
    "\n",
    "\n",
    "len(df.loc[df['sex'] == 0].loc[df['was_married'] == 0])\n",
    "data = [[len(df.loc[df['sex'] == 0].loc[df['was_married'] == 0]), \n",
    "         len(df.loc[df['sex'] == 0].loc[df['was_married'] == 1])],\n",
    "             [len(df.loc[df['sex'] == 1].loc[df['was_married'] == 0]), \n",
    "              len(df.loc[df['sex'] == 1].loc[df['was_married'] == 1])]]\n",
    "\n",
    "\n",
    "\n",
    "# подсчитаем p-value, 0.05 significance level \n",
    "# Статистически значимый результат теста (P ≤ 0,05) означает, что гипотеза теста ложна \n",
    "# или должна быть отклонена. Значение P больше 0,05 означает, \n",
    "# что никакого эффекта не наблюдалось.\n",
    "\n",
    "from scipy.stats import chi2_contingency\n",
    "stat, p, dof, expected = chi2_contingency(data)\n",
    "\n",
    "alpha = 0.05\n",
    "print(\"p value is \" + str(p))\n",
    "if p <= alpha:\n",
    "    print('гипотеза теста ложна и должна быть отклонена')\n",
    "else:\n",
    "    print('Значение P больше 0,05 означает, что никакого эффекта не наблюдалось.')\n",
    "\n"
   ]
  },
  {
   "cell_type": "markdown",
   "metadata": {},
   "source": [
    "Гипотезы при множественном тестировании (10 баллов)\n"
   ]
  },
  {
   "cell_type": "markdown",
   "metadata": {},
   "source": [
    "Правда ли между представителями таких профессий как, Homemaker, Marketing, Healthcare и Executive в среднем зарплаты не отличаются между собой? Ответ подкрепите визуализацией и подходящим статистическим критерием.\n",
    "# Подсказка: \n",
    "# - дисперсионнай анализ  f_oneway()\n",
    "# - Крускал Уоллиса\n",
    "\n",
    "Определим гипотезы: \n",
    "H0: распределения всех выборок равны. - Дано в вопросе \n",
    "H1: распределения одной или нескольких выборок не равны."
   ]
  },
  {
   "cell_type": "code",
   "execution_count": 42,
   "metadata": {},
   "outputs": [
    {
     "name": "stdout",
     "output_type": "stream",
     "text": [
      "stat=11359.172, p=0.000\n",
      "Возможно разное распределние\n"
     ]
    },
    {
     "data": {
      "image/png": "[encoded data removed]",
      "text/plain": [
       "<Figure size 432x288 with 1 Axes>"
      ]
     },
     "metadata": {},
     "output_type": "display_data"
    }
   ],
   "source": [
    "# f-one way \n",
    "# Критерий Крускала-Уоллиса используется для определения наличия статистически значимой разницы между медианами трех \n",
    "# или более независимых групп.\n",
    "from scipy.stats import f_oneway, ttest_ind\n",
    "\n",
    "Homemaker = df.query('profession == \"Homemaker\"')['salary']\n",
    "Marketing = df.query('profession == \"Marketing\"')['salary']\n",
    "Executive = df.query('profession == \"Executive\"')['salary']\n",
    "\n",
    "df.groupby('profession').describe()\n",
    "\n",
    "\n",
    "\n",
    "\n",
    "indexA = df[ (df['profession'] != 'Homemaker') & (df['profession'] != 'Marketing') \n",
    "              & (df['profession'] != 'Executive')].index\n",
    "a=df.drop(indexA , inplace=False)\n",
    "\n",
    "\n",
    "#тест Крускала-Уоллиса\n",
    "# Проверяет, равны ли распределения двух или более независимых выборок.\n",
    "#print(ttest_ind(Homemaker, Marketing).pvalue) \n",
    "#print(ttest_ind(Homemaker, Executive).pvalue)\n",
    "#print(ttest_ind(Marketing, Executive).pvalue)\n",
    "\n",
    "\n",
    "#Рисуем boxplot\n",
    "\n",
    "# настройка цвета \n",
    "for patch in ax.artists:\n",
    " r, g, b, a = patch.get_facecolor()\n",
    " patch.set_facecolor((r, g, b, .3))\n",
    " \n",
    "sns.set(style=\"darkgrid\")\n",
    "my_col = {\"Homemaker\": \"g\", \"Marketing\": \"b\", \"Executive\":\"m\"}\n",
    "sns.boxplot(x='profession', y='salary', data=a,  palette=my_col)\n",
    "\n",
    "# f-oneway \n",
    "stat, p = f_oneway(Homemaker, Marketing, Executive)\n",
    "print('stat=%.3f, p=%.3f' % (stat, p))\n",
    "if p > 0.05:\n",
    "\tprint('Возможно одинаковое распределение')\n",
    "else:\n",
    "\tprint('Возможно разное распределние')\n",
    "\n",
    "#Значения р для каждой комбинации меньше уровня значимости альфа (например, 0,05). \n",
    "# Это означает, что мы можем заключить, \n",
    "# что средняя заработная плата каждой профессии статистически отличается от другой профессии.\n"
   ]
  },
  {
   "cell_type": "markdown",
   "metadata": {},
   "source": [
    "Правда ли между представителями таких профессий как, Doctor, Entertainment и Lawyer в среднем зарплаты не отличаются между собой? Ответ подкрепите визуализацией и подходящим статистическим критерием."
   ]
  },
  {
   "cell_type": "code",
   "execution_count": 46,
   "metadata": {},
   "outputs": [
    {
     "name": "stdout",
     "output_type": "stream",
     "text": [
      "p-value: Doctor: 9.593251661014976e-20\n",
      "p-value: Lawyer: 2.6419655196268494e-36\n",
      "p-value: Entertainment: 5.8202223982795625e-05\n"
     ]
    },
    {
     "data": {
      "text/plain": [
       "<AxesSubplot: xlabel='profession', ylabel='salary'>"
      ]
     },
     "execution_count": 46,
     "metadata": {},
     "output_type": "execute_result"
    },
    {
     "data": {
      "image/png": "[encoded data removed]",
      "text/plain": [
       "<Figure size 432x288 with 1 Axes>"
      ]
     },
     "metadata": {},
     "output_type": "display_data"
    }
   ],
   "source": [
    "# f-one way \n",
    "# Критерий Крускала-Уоллиса используется для определения наличия статистически значимой разницы между медианами трех \n",
    "# или более независимых групп.\n",
    "from scipy.stats import f_oneway, ttest_ind\n",
    "\n",
    "Lawyer = df.query('profession == \"Lawyer\"')['salary']\n",
    "Doctor = df.query('profession == \"Doctor\"')['salary']\n",
    "Entertainment = df.query('profession == \"Entertainment\"')['salary']\n",
    "\n",
    "#df.groupby('profession').describe()\n",
    "\n",
    "\n",
    "\n",
    "\n",
    "indexA = df[ (df['profession'] != 'Lawyer') & (df['profession'] != 'Entertainment') \n",
    "              & (df['profession'] != 'Doctor')].index\n",
    "a=df.drop(indexA , inplace=False)\n",
    "\n",
    "\n",
    "#тест Крускала-Уоллиса\n",
    "# Проверяет, равны ли распределения двух или более независимых выборок.\n",
    "print('p-value: Doctor: ' + str(ttest_ind(Doctor, Lawyer).pvalue)) \n",
    "print('p-value: Lawyer: ' + str(ttest_ind(Lawyer, Entertainment).pvalue))\n",
    "print('p-value: Entertainment: ' + str(ttest_ind(Entertainment, Doctor).pvalue))\n",
    "\n",
    "\n",
    "#Рисуем boxplot\n",
    "\n",
    "# adding transparency to colors\n",
    "for patch in ax.artists:\n",
    " r, g, b, a = patch.get_facecolor()\n",
    " patch.set_facecolor((r, g, b, .3))\n",
    " \n",
    "sns.set(style=\"darkgrid\")\n",
    "my_col = {\"Doctor\": \"g\", \"Lawyer\": \"b\", \"Entertainment\":\"m\"}\n",
    "sns.boxplot(x='profession', y='salary', data=a,  palette=my_col)\n",
    "\n",
    "\n",
    "#Значения р для каждой комбинации меньше уровня значимости альфа (например, 0,05). \n",
    "# Это означает, что мы можем заключить, \n",
    "# что средняя заработная плата каждой профессии статистически отличается от другой профессии.\n"
   ]
  },
  {
   "cell_type": "markdown",
   "metadata": {},
   "source": [
    "Регрессионный Анализ (20 баллов)\n",
    "Взглянем от чего зависит уровень счастья"
   ]
  },
  {
   "cell_type": "markdown",
   "metadata": {},
   "source": [
    "Постройте регрессионную модель зависимости уровня счастья от приведенных факторов (was_married, children, salary, sex, age, home_cost)"
   ]
  }
 ],
 "metadata": {
  "kernelspec": {
   "display_name": "Python 3.9.7 64-bit",
   "language": "python",
   "name": "python3"
  },
  "language_info": {
   "codemirror_mode": {
    "name": "ipython",
    "version": 3
   },
   "file_extension": ".py",
   "mimetype": "text/x-python",
   "name": "python",
   "nbconvert_exporter": "python",
   "pygments_lexer": "ipython3",
   "version": "3.9.7"
  },
  "orig_nbformat": 4,
  "vscode": {
   "interpreter": {
    "hash": "97e7738037ab5c68679b221168e1048d1981eac653725107d7abc5486ab9a185"
   }
  }
 },
 "nbformat": 4,
 "nbformat_minor": 2
}
